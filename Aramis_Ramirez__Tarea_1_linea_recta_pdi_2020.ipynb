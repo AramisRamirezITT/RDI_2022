{
  "nbformat": 4,
  "nbformat_minor": 0,
  "metadata": {
    "colab": {
      "provenance": [],
      "toc_visible": true,
      "include_colab_link": true
    },
    "kernelspec": {
      "name": "python3",
      "display_name": "Python 3"
    }
  },
  "cells": [
    {
      "cell_type": "markdown",
      "metadata": {
        "id": "view-in-github",
        "colab_type": "text"
      },
      "source": [
        "<a href=\"https://colab.research.google.com/github/AramisRamirezITT/RDI_2022/blob/main/Aramis_Ramirez__Tarea_1_linea_recta_pdi_2020.ipynb\" target=\"_parent\"><img src=\"https://colab.research.google.com/assets/colab-badge.svg\" alt=\"Open In Colab\"/></a>"
      ]
    },
    {
      "cell_type": "markdown",
      "metadata": {
        "id": "HwRjIO9aNCJG"
      },
      "source": [
        "# Tarea 1 PDI 2020\n",
        "## UAG\n",
        "\n",
        "Generar las ecuaciones de la recta  y graficarlas por cada par de puntos\n",
        "\n",
        "- [[0, 6], [3, 2]], \n",
        "- [[5, 6], [3, 2]], \n",
        "- [[3, 2], [0, 2]], \n",
        "- [[0, 1], [2, 9]]]"
      ]
    },
    {
      "cell_type": "code",
      "metadata": {
        "id": "4sHD559YMjkc"
      },
      "source": [],
      "execution_count": null,
      "outputs": []
    }
  ]
}