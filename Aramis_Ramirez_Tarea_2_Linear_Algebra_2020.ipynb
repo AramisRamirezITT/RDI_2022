{
  "nbformat": 4,
  "nbformat_minor": 0,
  "metadata": {
    "colab": {
      "provenance": [],
      "collapsed_sections": [],
      "include_colab_link": true
    },
    "kernelspec": {
      "name": "python3",
      "display_name": "Python 3"
    }
  },
  "cells": [
    {
      "cell_type": "markdown",
      "metadata": {
        "id": "view-in-github",
        "colab_type": "text"
      },
      "source": [
        "<a href=\"https://colab.research.google.com/github/AramisRamirezITT/RDI_2022/blob/main/Aramis_Ramirez_Tarea_2_Linear_Algebra_2020.ipynb\" target=\"_parent\"><img src=\"https://colab.research.google.com/assets/colab-badge.svg\" alt=\"Open In Colab\"/></a>"
      ]
    },
    {
      "cell_type": "markdown",
      "metadata": {
        "id": "HwRjIO9aNCJG"
      },
      "source": [
        "# Tarea 2 PDI 2020\n",
        "## UAG\n",
        "\n",
        "Sea:\n",
        "\n",
        "\n",
        "$$\n",
        "a = \\left(\\begin{array}{cc} \n",
        " 2\\\\ \n",
        "4\n",
        "\\end{array}\\right)\n",
        "$$ \n",
        "\n",
        "\n",
        "$$\n",
        "b = \\left(\\begin{array}{cc} \n",
        "3 & 2\n",
        "\\end{array}\\right)\n",
        "$$ \n",
        "\n",
        "\n",
        "$$\n",
        "A = \\left(\\begin{array}{cc} \n",
        "2 & 3 \\\\\n",
        "4 & 1\n",
        "\\end{array}\\right)\n",
        "$$ \n",
        "\n",
        "$$\n",
        "B = \\left(\\begin{array}{cc} \n",
        "3 & -2 \\\\\n",
        "4 & -1\n",
        "\\end{array}\\right)\n",
        "$$ \n",
        "\n",
        "Hacer las siguientes operaciones (**si existen!!!!!**)\n",
        "\n",
        "1   $ a + b$\n",
        "\n",
        "2   $ a + b'$  en que $b'$ en la transpuesta de $b$\n",
        "\n",
        "3   $ ab$\n",
        "\n",
        "4   $ ba$\n",
        "\n",
        "5  $b/a$\n",
        "\n",
        "6  $5a$\n",
        "\n",
        "7 $AB$\n",
        "\n",
        "8 $BA$\n",
        "\n",
        "9 $3\\exp(A)^{0.5}$ \n",
        "\n",
        "10 $A^{-1}$\n",
        "\n",
        "11 $Det(B)$\n",
        "\n",
        "12 $B/b$\n"
      ]
    },
    {
      "cell_type": "code",
      "metadata": {
        "id": "4sHD559YMjkc"
      },
      "source": [
        "import numpy as np\n"
      ],
      "execution_count": 34,
      "outputs": []
    },
    {
      "cell_type": "code",
      "source": [
        "a = np.array( [[2],\n",
        "              [4]])\n",
        "\n",
        "b = np.array([[3, 2]])\n",
        "\n",
        "A = np.array([[2,3], \n",
        "     [4,1]])\n",
        "\n",
        "B = np.array([[3,-2], \n",
        "     [4,-1]])\n",
        "\n",
        "# B"
      ],
      "metadata": {
        "id": "DqOvsX5UWl7c"
      },
      "execution_count": 35,
      "outputs": []
    },
    {
      "cell_type": "markdown",
      "source": [
        "#No es posible la suma a + b debido que no son de la misma dimencion "
      ],
      "metadata": {
        "id": "YaMm8DYHcJv8"
      }
    },
    {
      "cell_type": "code",
      "source": [
        "# a + b'\n",
        "\n",
        "t = np.transpose(b)\n",
        "\n",
        "resul = a + t\n",
        "\n",
        "resul"
      ],
      "metadata": {
        "colab": {
          "base_uri": "https://localhost:8080/"
        },
        "id": "LLehQz8iZ9fF",
        "outputId": "d293cad2-3b79-43a5-c7ac-9f87ba701186"
      },
      "execution_count": 36,
      "outputs": [
        {
          "output_type": "execute_result",
          "data": {
            "text/plain": [
              "array([[5],\n",
              "       [6]])"
            ]
          },
          "metadata": {},
          "execution_count": 36
        }
      ]
    },
    {
      "cell_type": "code",
      "source": [
        "# a*b\n",
        "\n",
        "mult_1 = a * b\n",
        "mult_1"
      ],
      "metadata": {
        "colab": {
          "base_uri": "https://localhost:8080/"
        },
        "id": "Rl48zN8HceJ1",
        "outputId": "ba1636ce-a063-47dd-b682-e3f325c59d92"
      },
      "execution_count": 37,
      "outputs": [
        {
          "output_type": "execute_result",
          "data": {
            "text/plain": [
              "array([[ 6,  4],\n",
              "       [12,  8]])"
            ]
          },
          "metadata": {},
          "execution_count": 37
        }
      ]
    },
    {
      "cell_type": "code",
      "source": [
        "# b*a\n",
        "\n",
        "mult_2 = np.multiply(b,a)\n",
        "mult_2"
      ],
      "metadata": {
        "colab": {
          "base_uri": "https://localhost:8080/"
        },
        "id": "6vIxGD8Tc8Vv",
        "outputId": "82c1084b-9f79-486d-b3d9-63e6a4a28ded"
      },
      "execution_count": 38,
      "outputs": [
        {
          "output_type": "execute_result",
          "data": {
            "text/plain": [
              "array([[ 6,  4],\n",
              "       [12,  8]])"
            ]
          },
          "metadata": {},
          "execution_count": 38
        }
      ]
    },
    {
      "cell_type": "markdown",
      "source": [
        "#a/b no es posible devido a las dimenciones de las matrices "
      ],
      "metadata": {
        "id": "LrLyYamyjAFd"
      }
    },
    {
      "cell_type": "code",
      "source": [
        "#5*a\n",
        "\n",
        "mult_escalar = 5*a\n",
        "\n",
        "mult_escalar"
      ],
      "metadata": {
        "colab": {
          "base_uri": "https://localhost:8080/"
        },
        "id": "EaTEVUrdjF2w",
        "outputId": "430b4c10-f512-4dc6-a949-9cfbc985e602"
      },
      "execution_count": 44,
      "outputs": [
        {
          "output_type": "execute_result",
          "data": {
            "text/plain": [
              "array([[10],\n",
              "       [20]])"
            ]
          },
          "metadata": {},
          "execution_count": 44
        }
      ]
    },
    {
      "cell_type": "code",
      "source": [
        "#AB\n",
        "\n",
        "mult_2x2_1 = np.multiply(A,B)\n",
        "\n",
        "mult_2x2_1 \n"
      ],
      "metadata": {
        "colab": {
          "base_uri": "https://localhost:8080/"
        },
        "id": "3BqEM1QzjVhu",
        "outputId": "bafc2372-0daf-4254-b24f-f038aed71e1b"
      },
      "execution_count": 48,
      "outputs": [
        {
          "output_type": "execute_result",
          "data": {
            "text/plain": [
              "array([[ 6, -6],\n",
              "       [16, -1]])"
            ]
          },
          "metadata": {},
          "execution_count": 48
        }
      ]
    },
    {
      "cell_type": "code",
      "source": [
        "#BA\n",
        "\n",
        "mult_2x2_2 = np.multiply(B,A)\n",
        "\n",
        "mult_2x2_2"
      ],
      "metadata": {
        "colab": {
          "base_uri": "https://localhost:8080/"
        },
        "id": "3kY5ilkKkBJD",
        "outputId": "56edd0c5-094f-4d7b-eca5-d2bad8b8db35"
      },
      "execution_count": 49,
      "outputs": [
        {
          "output_type": "execute_result",
          "data": {
            "text/plain": [
              "array([[ 6, -6],\n",
              "       [16, -1]])"
            ]
          },
          "metadata": {},
          "execution_count": 49
        }
      ]
    },
    {
      "cell_type": "code",
      "source": [
        "#3exp(A)0.5\n",
        "\n",
        "expo = np.exp(A)\n",
        "result_expo = 3 * (expo) ** 0.5\n",
        "\n",
        "result_expo"
      ],
      "metadata": {
        "colab": {
          "base_uri": "https://localhost:8080/"
        },
        "id": "_PmvSC4BkJfh",
        "outputId": "eb4513cd-4e4b-46c8-c490-301431f7236c"
      },
      "execution_count": 56,
      "outputs": [
        {
          "output_type": "execute_result",
          "data": {
            "text/plain": [
              "array([[ 8.15484549, 13.44506721],\n",
              "       [22.1671683 ,  4.94616381]])"
            ]
          },
          "metadata": {},
          "execution_count": 56
        }
      ]
    },
    {
      "cell_type": "code",
      "source": [
        "#A^−1\n",
        "\n",
        "inversa = np.linalg.inv(A)\n",
        "\n",
        "inversa"
      ],
      "metadata": {
        "colab": {
          "base_uri": "https://localhost:8080/"
        },
        "id": "18TtIpZVkQig",
        "outputId": "b9bb1f8c-c835-4dcf-e3dd-d87bf9cdff98"
      },
      "execution_count": 51,
      "outputs": [
        {
          "output_type": "execute_result",
          "data": {
            "text/plain": [
              "array([[-0.1,  0.3],\n",
              "       [ 0.4, -0.2]])"
            ]
          },
          "metadata": {},
          "execution_count": 51
        }
      ]
    },
    {
      "cell_type": "code",
      "source": [
        "#Det(B)\n",
        "\n",
        "determinante = np.linalg.det(B)\n",
        "determinante\n"
      ],
      "metadata": {
        "colab": {
          "base_uri": "https://localhost:8080/"
        },
        "id": "0InuQI1KkjYe",
        "outputId": "5c06a2df-6bc6-482b-888e-e42e81904136"
      },
      "execution_count": 52,
      "outputs": [
        {
          "output_type": "execute_result",
          "data": {
            "text/plain": [
              "4.999999999999999"
            ]
          },
          "metadata": {},
          "execution_count": 52
        }
      ]
    },
    {
      "cell_type": "markdown",
      "source": [
        "#B/b\n",
        "#div = b^-1*B  \n",
        "\n",
        "No es posible porque la 'b' no tiene inversa "
      ],
      "metadata": {
        "id": "2O_2nrDMliW6"
      }
    }
  ]
}